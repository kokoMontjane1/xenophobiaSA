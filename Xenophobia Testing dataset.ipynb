{
  "nbformat": 4,
  "nbformat_minor": 0,
  "metadata": {
    "colab": {
      "provenance": []
    },
    "kernelspec": {
      "name": "python3",
      "display_name": "Python 3"
    },
    "language_info": {
      "name": "python"
    }
  },
  "cells": [
    {
      "cell_type": "code",
      "execution_count": 2,
      "metadata": {
        "colab": {
          "base_uri": "https://localhost:8080/"
        },
        "id": "qyRwMnxkA-kQ",
        "outputId": "33e48123-4b98-401f-faba-30b811072461"
      },
      "outputs": [
        {
          "output_type": "stream",
          "name": "stdout",
          "text": [
            "Looking in indexes: https://pypi.org/simple, https://us-python.pkg.dev/colab-wheels/public/simple/\n",
            "Collecting snscrape\n",
            "  Downloading snscrape-0.3.4-py3-none-any.whl (35 kB)\n",
            "Requirement already satisfied: lxml in /usr/local/lib/python3.7/dist-packages (from snscrape) (4.9.1)\n",
            "Requirement already satisfied: beautifulsoup4 in /usr/local/lib/python3.7/dist-packages (from snscrape) (4.6.3)\n",
            "Requirement already satisfied: requests[socks] in /usr/local/lib/python3.7/dist-packages (from snscrape) (2.23.0)\n",
            "Requirement already satisfied: chardet<4,>=3.0.2 in /usr/local/lib/python3.7/dist-packages (from requests[socks]->snscrape) (3.0.4)\n",
            "Requirement already satisfied: certifi>=2017.4.17 in /usr/local/lib/python3.7/dist-packages (from requests[socks]->snscrape) (2022.9.24)\n",
            "Requirement already satisfied: idna<3,>=2.5 in /usr/local/lib/python3.7/dist-packages (from requests[socks]->snscrape) (2.10)\n",
            "Requirement already satisfied: urllib3!=1.25.0,!=1.25.1,<1.26,>=1.21.1 in /usr/local/lib/python3.7/dist-packages (from requests[socks]->snscrape) (1.24.3)\n",
            "Requirement already satisfied: PySocks!=1.5.7,>=1.5.6 in /usr/local/lib/python3.7/dist-packages (from requests[socks]->snscrape) (1.7.1)\n",
            "Installing collected packages: snscrape\n",
            "Successfully installed snscrape-0.3.4\n",
            "Looking in indexes: https://pypi.org/simple, https://us-python.pkg.dev/colab-wheels/public/simple/\n",
            "Requirement already satisfied: pandas in /usr/local/lib/python3.7/dist-packages (1.3.5)\n",
            "Requirement already satisfied: pytz>=2017.3 in /usr/local/lib/python3.7/dist-packages (from pandas) (2022.6)\n",
            "Requirement already satisfied: numpy>=1.17.3 in /usr/local/lib/python3.7/dist-packages (from pandas) (1.21.6)\n",
            "Requirement already satisfied: python-dateutil>=2.7.3 in /usr/local/lib/python3.7/dist-packages (from pandas) (2.8.2)\n",
            "Requirement already satisfied: six>=1.5 in /usr/local/lib/python3.7/dist-packages (from python-dateutil>=2.7.3->pandas) (1.15.0)\n"
          ]
        }
      ],
      "source": [
        "!pip install snscrape\n",
        "!pip install pandas"
      ]
    },
    {
      "cell_type": "code",
      "source": [
        "import snscrape.modules.twitter as sntwitter\n",
        "import pandas as pd\n",
        "import datetime\n",
        "import snscrape.modules.twitter as sntwitter\n",
        "import pandas as pd\n",
        "\n",
        "query = \"(#Xenophia OR #Jolofina OR #Jollofs) until:2022-11-16 since:2015-01-01\"\n",
        "tweets = []\n",
        "limit = 5000\n",
        "\n",
        "\n",
        "for tweet in sntwitter.TwitterSearchScraper(query).get_items():\n",
        "    \n",
        "    if len(tweets) == limit:\n",
        "        break\n",
        "    else:\n",
        "        tweets.append([tweet.date, tweet.username, tweet.content])\n",
        "        \n",
        "df = pd.DataFrame(tweets, columns=['Date', 'User', 'Tweet'])\n",
        "print(df)\n",
        "\n",
        "# to save to csv\n",
        "df.to_csv('XenophobiaTesttweets.csv')"
      ],
      "metadata": {
        "colab": {
          "base_uri": "https://localhost:8080/"
        },
        "id": "CeTiApyPBKyd",
        "outputId": "e519d0bf-d695-4e86-ccff-397d3b600072"
      },
      "execution_count": 6,
      "outputs": [
        {
          "output_type": "stream",
          "name": "stdout",
          "text": [
            "                         Date          User  \\\n",
            "0   2022-11-14 09:48:53+00:00    tonytendai   \n",
            "1   2022-11-13 13:55:10+00:00   THEMBAMAZI1   \n",
            "2   2022-11-13 09:21:05+00:00   trankwility   \n",
            "3   2022-11-12 15:58:11+00:00   THEMBAMAZI1   \n",
            "4   2022-11-12 08:32:43+00:00   DatBrothaD2   \n",
            "..                        ...           ...   \n",
            "599 2015-04-04 15:21:37+00:00  KaraboKbmags   \n",
            "600 2015-02-27 16:07:36+00:00  ImaginedWNow   \n",
            "601 2015-01-23 05:29:09+00:00  tshidimoseki   \n",
            "602 2015-01-23 04:44:31+00:00     Iam_Bonge   \n",
            "603 2015-01-14 15:51:44+00:00    Lungstar88   \n",
            "\n",
            "                                                 Tweet  \n",
            "0    I don't know how it started but calling Nigeri...  \n",
            "1    @QueenKunta_198 🤣🙆‍♂️🤣 and you #jolofina u are...  \n",
            "2    @ThusoMbedu is dating @JohnBoyega , does that ...  \n",
            "3    @_SAPatriot @Mpu2mi @Kea91492014 🤣😂🤣 all jolif...  \n",
            "4    Somebody please🎙️ re-record the song Sarafina....  \n",
            "..                                                 ...  \n",
            "599  We did not struggle to embrace an intolerant s...  \n",
            "600  #Xenophia is unreasonable #fear. Fear has neve...  \n",
            "601  \"@Iam_Thobeka: #Xenophia sies!!! amanyala wodw...  \n",
            "602               #Xenophia sies!!! amanyala wodwa! :(  \n",
            "603  Is ıt true that our government now has strıct ...  \n",
            "\n",
            "[604 rows x 3 columns]\n"
          ]
        }
      ]
    }
  ]
}
